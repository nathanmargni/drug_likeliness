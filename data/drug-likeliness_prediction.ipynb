{
 "cells": [
  {
   "cell_type": "code",
   "execution_count": null,
   "metadata": {},
   "outputs": [],
   "source": []
  },
  {
   "attachments": {},
   "cell_type": "markdown",
   "metadata": {},
   "source": [
    " ZINC, NOC and PDB are non drug datasets, the one with molecules that differ more than drugs is ZINC "
   ]
  },
  {
   "cell_type": "code",
   "execution_count": 1,
   "metadata": {},
   "outputs": [],
   "source": [
    "import pandas as pd\n",
    "import numpy as np "
   ]
  },
  {
   "cell_type": "code",
   "execution_count": 2,
   "metadata": {},
   "outputs": [],
   "source": [
    "# read .smiles file\n",
    "with open('drugability/data/zinc15_nondrugs_sample.smiles', 'r') as f:\n",
    "    non_drug_sample = f.readlines()\n",
    "    non_drug_sample = [x.strip() for x in non_drug_sample]\n",
    "\n",
    "\n",
    "with open('drugability/data/zinc15_world_drugs_clean.smiles', 'r') as f:\n",
    "    world_drug_sample = f.readlines()\n",
    "    world_drug_sample = [x.strip() for x in world_drug_sample]\n",
    "\n",
    "\n",
    "with open('drugability/data/fda_approved_below128atoms.smiles', 'r') as f:\n",
    "    fda_approved_below128atoms = f.readlines()\n",
    "    fda_approved_below128atoms = [x.strip() for x in fda_approved_below128atoms]\n",
    "\n",
    "\n",
    "with open('drugability/data/drugs_approved.smiles', 'r') as f:\n",
    "    drugs_approved = f.readlines()\n",
    "    drugs_approved = [x.strip() for x in drugs_approved]\n",
    "\n"
   ]
  },
  {
   "cell_type": "code",
   "execution_count": 3,
   "metadata": {},
   "outputs": [],
   "source": [
    "fda_approved = pd.read_csv('drugability/data/fda_approved.csv')\n",
    "\n",
    "clintox_cleaned = pd.read_csv('drugability/data/clintox_cleaned.csv')\n",
    "\n",
    "pdb_below_tanimoto = pd.read_csv('drugability/data/pdb_below_tanimoto0.85_to_fda.csv')\n",
    "\n",
    "tox21 = pd.read_csv('drugability/data/tox21.csv')"
   ]
  },
  {
   "cell_type": "code",
   "execution_count": 4,
   "metadata": {},
   "outputs": [],
   "source": [
    "# drugs_approved_rdkit = np.load('drugability/data/drugs_approved_rdkit.npz', allow_pickle = False)"
   ]
  },
  {
   "cell_type": "code",
   "execution_count": 5,
   "metadata": {},
   "outputs": [
    {
     "data": {
      "text/plain": [
       "2136"
      ]
     },
     "execution_count": 5,
     "metadata": {},
     "output_type": "execute_result"
    }
   ],
   "source": [
    "len(fda_approved)"
   ]
  },
  {
   "cell_type": "code",
   "execution_count": 6,
   "metadata": {},
   "outputs": [
    {
     "data": {
      "text/html": [
       "<div>\n",
       "<style scoped>\n",
       "    .dataframe tbody tr th:only-of-type {\n",
       "        vertical-align: middle;\n",
       "    }\n",
       "\n",
       "    .dataframe tbody tr th {\n",
       "        vertical-align: top;\n",
       "    }\n",
       "\n",
       "    .dataframe thead th {\n",
       "        text-align: right;\n",
       "    }\n",
       "</style>\n",
       "<table border=\"1\" class=\"dataframe\">\n",
       "  <thead>\n",
       "    <tr style=\"text-align: right;\">\n",
       "      <th></th>\n",
       "      <th>DrugBank ID</th>\n",
       "      <th>SMILES</th>\n",
       "      <th>Ro5</th>\n",
       "      <th>bRo5</th>\n",
       "      <th>eRo5</th>\n",
       "    </tr>\n",
       "  </thead>\n",
       "  <tbody>\n",
       "    <tr>\n",
       "      <th>0</th>\n",
       "      <td>DB00006</td>\n",
       "      <td>CC[C@H](C)[C@H](NC(=O)[C@H](CCC(O)=O)NC(=O)[C@...</td>\n",
       "      <td>False</td>\n",
       "      <td>True</td>\n",
       "      <td>False</td>\n",
       "    </tr>\n",
       "    <tr>\n",
       "      <th>1</th>\n",
       "      <td>DB00007</td>\n",
       "      <td>CCNC(=O)[C@@H]1CCCN1C(=O)[C@H](CCCNC(N)=N)NC(=...</td>\n",
       "      <td>False</td>\n",
       "      <td>True</td>\n",
       "      <td>False</td>\n",
       "    </tr>\n",
       "    <tr>\n",
       "      <th>2</th>\n",
       "      <td>DB00014</td>\n",
       "      <td>CC(C)C[C@H](NC(=O)[C@@H](COC(C)(C)C)NC(=O)[C@H...</td>\n",
       "      <td>False</td>\n",
       "      <td>True</td>\n",
       "      <td>False</td>\n",
       "    </tr>\n",
       "    <tr>\n",
       "      <th>3</th>\n",
       "      <td>DB00027</td>\n",
       "      <td>CC(C)C[C@@H](NC(=O)CNC(=O)[C@@H](NC=O)C(C)C)C(...</td>\n",
       "      <td>False</td>\n",
       "      <td>True</td>\n",
       "      <td>False</td>\n",
       "    </tr>\n",
       "    <tr>\n",
       "      <th>4</th>\n",
       "      <td>DB00035</td>\n",
       "      <td>NC(=O)CC[C@@H]1NC(=O)[C@H](CC2=CC=CC=C2)NC(=O)...</td>\n",
       "      <td>False</td>\n",
       "      <td>True</td>\n",
       "      <td>False</td>\n",
       "    </tr>\n",
       "    <tr>\n",
       "      <th>...</th>\n",
       "      <td>...</td>\n",
       "      <td>...</td>\n",
       "      <td>...</td>\n",
       "      <td>...</td>\n",
       "      <td>...</td>\n",
       "    </tr>\n",
       "    <tr>\n",
       "      <th>2131</th>\n",
       "      <td>DB15480</td>\n",
       "      <td>CC(=O)OC1=CC(O)=CC=C1</td>\n",
       "      <td>True</td>\n",
       "      <td>False</td>\n",
       "      <td>False</td>\n",
       "    </tr>\n",
       "    <tr>\n",
       "      <th>2132</th>\n",
       "      <td>DB15534</td>\n",
       "      <td>COC1=C(OC)C(OC)=C2C(CCC(NC(C)=O)C3=CC(=O)C(O)=...</td>\n",
       "      <td>True</td>\n",
       "      <td>False</td>\n",
       "      <td>False</td>\n",
       "    </tr>\n",
       "    <tr>\n",
       "      <th>2133</th>\n",
       "      <td>DB15566</td>\n",
       "      <td>[H][C@@]12CC[C@](O)(C(=O)COC(C)=O)[C@@]1(C)C[C...</td>\n",
       "      <td>True</td>\n",
       "      <td>False</td>\n",
       "      <td>False</td>\n",
       "    </tr>\n",
       "    <tr>\n",
       "      <th>2134</th>\n",
       "      <td>DB15576</td>\n",
       "      <td>CCOC(=O)C1=CC=CC=C1O</td>\n",
       "      <td>True</td>\n",
       "      <td>False</td>\n",
       "      <td>False</td>\n",
       "    </tr>\n",
       "    <tr>\n",
       "      <th>2135</th>\n",
       "      <td>DB15594</td>\n",
       "      <td>[Na+].CCOC1=CC=C(NC2=CC=C(C=C2)C(=C2\\C=C/C(/C=...</td>\n",
       "      <td>False</td>\n",
       "      <td>True</td>\n",
       "      <td>False</td>\n",
       "    </tr>\n",
       "  </tbody>\n",
       "</table>\n",
       "<p>2136 rows × 5 columns</p>\n",
       "</div>"
      ],
      "text/plain": [
       "     DrugBank ID                                             SMILES    Ro5   \n",
       "0        DB00006  CC[C@H](C)[C@H](NC(=O)[C@H](CCC(O)=O)NC(=O)[C@...  False  \\\n",
       "1        DB00007  CCNC(=O)[C@@H]1CCCN1C(=O)[C@H](CCCNC(N)=N)NC(=...  False   \n",
       "2        DB00014  CC(C)C[C@H](NC(=O)[C@@H](COC(C)(C)C)NC(=O)[C@H...  False   \n",
       "3        DB00027  CC(C)C[C@@H](NC(=O)CNC(=O)[C@@H](NC=O)C(C)C)C(...  False   \n",
       "4        DB00035  NC(=O)CC[C@@H]1NC(=O)[C@H](CC2=CC=CC=C2)NC(=O)...  False   \n",
       "...          ...                                                ...    ...   \n",
       "2131     DB15480                              CC(=O)OC1=CC(O)=CC=C1   True   \n",
       "2132     DB15534  COC1=C(OC)C(OC)=C2C(CCC(NC(C)=O)C3=CC(=O)C(O)=...   True   \n",
       "2133     DB15566  [H][C@@]12CC[C@](O)(C(=O)COC(C)=O)[C@@]1(C)C[C...   True   \n",
       "2134     DB15576                               CCOC(=O)C1=CC=CC=C1O   True   \n",
       "2135     DB15594  [Na+].CCOC1=CC=C(NC2=CC=C(C=C2)C(=C2\\C=C/C(/C=...  False   \n",
       "\n",
       "       bRo5   eRo5  \n",
       "0      True  False  \n",
       "1      True  False  \n",
       "2      True  False  \n",
       "3      True  False  \n",
       "4      True  False  \n",
       "...     ...    ...  \n",
       "2131  False  False  \n",
       "2132  False  False  \n",
       "2133  False  False  \n",
       "2134  False  False  \n",
       "2135   True  False  \n",
       "\n",
       "[2136 rows x 5 columns]"
      ]
     },
     "execution_count": 6,
     "metadata": {},
     "output_type": "execute_result"
    }
   ],
   "source": [
    "fda_approved"
   ]
  },
  {
   "cell_type": "code",
   "execution_count": 7,
   "metadata": {},
   "outputs": [
    {
     "data": {
      "text/plain": [
       "4987"
      ]
     },
     "execution_count": 7,
     "metadata": {},
     "output_type": "execute_result"
    }
   ],
   "source": [
    "len(non_drug_sample)"
   ]
  },
  {
   "cell_type": "code",
   "execution_count": 8,
   "metadata": {},
   "outputs": [],
   "source": [
    "# create a dataset with the smiles from fda_approved dataset and non_drug_sample list, assigning label 1 to fda_approved and 0 to non_drug_sample\n",
    "df_drugs = pd.DataFrame({'smiles': fda_approved.SMILES, 'label': 1})\n",
    "df_non_drugs = pd.DataFrame({'smiles': non_drug_sample, 'label': 0})\n",
    "\n",
    "# concatenate the two dataframes\n",
    "df = pd.concat([df_drugs, df_non_drugs], ignore_index=True)\n"
   ]
  },
  {
   "cell_type": "code",
   "execution_count": 9,
   "metadata": {},
   "outputs": [
    {
     "data": {
      "text/html": [
       "<div>\n",
       "<style scoped>\n",
       "    .dataframe tbody tr th:only-of-type {\n",
       "        vertical-align: middle;\n",
       "    }\n",
       "\n",
       "    .dataframe tbody tr th {\n",
       "        vertical-align: top;\n",
       "    }\n",
       "\n",
       "    .dataframe thead th {\n",
       "        text-align: right;\n",
       "    }\n",
       "</style>\n",
       "<table border=\"1\" class=\"dataframe\">\n",
       "  <thead>\n",
       "    <tr style=\"text-align: right;\">\n",
       "      <th></th>\n",
       "      <th>smiles</th>\n",
       "      <th>label</th>\n",
       "    </tr>\n",
       "  </thead>\n",
       "  <tbody>\n",
       "    <tr>\n",
       "      <th>0</th>\n",
       "      <td>CC[C@H](C)[C@H](NC(=O)[C@H](CCC(O)=O)NC(=O)[C@...</td>\n",
       "      <td>1</td>\n",
       "    </tr>\n",
       "    <tr>\n",
       "      <th>1</th>\n",
       "      <td>CCNC(=O)[C@@H]1CCCN1C(=O)[C@H](CCCNC(N)=N)NC(=...</td>\n",
       "      <td>1</td>\n",
       "    </tr>\n",
       "    <tr>\n",
       "      <th>2</th>\n",
       "      <td>CC(C)C[C@H](NC(=O)[C@@H](COC(C)(C)C)NC(=O)[C@H...</td>\n",
       "      <td>1</td>\n",
       "    </tr>\n",
       "    <tr>\n",
       "      <th>3</th>\n",
       "      <td>CC(C)C[C@@H](NC(=O)CNC(=O)[C@@H](NC=O)C(C)C)C(...</td>\n",
       "      <td>1</td>\n",
       "    </tr>\n",
       "    <tr>\n",
       "      <th>4</th>\n",
       "      <td>NC(=O)CC[C@@H]1NC(=O)[C@H](CC2=CC=CC=C2)NC(=O)...</td>\n",
       "      <td>1</td>\n",
       "    </tr>\n",
       "    <tr>\n",
       "      <th>...</th>\n",
       "      <td>...</td>\n",
       "      <td>...</td>\n",
       "    </tr>\n",
       "    <tr>\n",
       "      <th>7118</th>\n",
       "      <td>CSC[C@@H](C)NC(=O)N[C@@H](C(N)=O)c1ccccc1</td>\n",
       "      <td>0</td>\n",
       "    </tr>\n",
       "    <tr>\n",
       "      <th>7119</th>\n",
       "      <td>c1cnc(NCc2cncc3c2CC[N@@H+]([C@@H]2CCOC2)C3)nc1</td>\n",
       "      <td>0</td>\n",
       "    </tr>\n",
       "    <tr>\n",
       "      <th>7120</th>\n",
       "      <td>CCCCOc1ccc(/C=C(\\C#N)C(=O)Nc2ccc(S(=O)(=O)[N-]...</td>\n",
       "      <td>0</td>\n",
       "    </tr>\n",
       "    <tr>\n",
       "      <th>7121</th>\n",
       "      <td>C=C[C@@H]1O[C@@H](c2ccccc2)OC[C@@H]1O</td>\n",
       "      <td>0</td>\n",
       "    </tr>\n",
       "    <tr>\n",
       "      <th>7122</th>\n",
       "      <td>CCCn1nnnc1COc1cc([N+](=O)[O-])ccc1OC</td>\n",
       "      <td>0</td>\n",
       "    </tr>\n",
       "  </tbody>\n",
       "</table>\n",
       "<p>7123 rows × 2 columns</p>\n",
       "</div>"
      ],
      "text/plain": [
       "                                                 smiles  label\n",
       "0     CC[C@H](C)[C@H](NC(=O)[C@H](CCC(O)=O)NC(=O)[C@...      1\n",
       "1     CCNC(=O)[C@@H]1CCCN1C(=O)[C@H](CCCNC(N)=N)NC(=...      1\n",
       "2     CC(C)C[C@H](NC(=O)[C@@H](COC(C)(C)C)NC(=O)[C@H...      1\n",
       "3     CC(C)C[C@@H](NC(=O)CNC(=O)[C@@H](NC=O)C(C)C)C(...      1\n",
       "4     NC(=O)CC[C@@H]1NC(=O)[C@H](CC2=CC=CC=C2)NC(=O)...      1\n",
       "...                                                 ...    ...\n",
       "7118          CSC[C@@H](C)NC(=O)N[C@@H](C(N)=O)c1ccccc1      0\n",
       "7119     c1cnc(NCc2cncc3c2CC[N@@H+]([C@@H]2CCOC2)C3)nc1      0\n",
       "7120  CCCCOc1ccc(/C=C(\\C#N)C(=O)Nc2ccc(S(=O)(=O)[N-]...      0\n",
       "7121              C=C[C@@H]1O[C@@H](c2ccccc2)OC[C@@H]1O      0\n",
       "7122               CCCn1nnnc1COc1cc([N+](=O)[O-])ccc1OC      0\n",
       "\n",
       "[7123 rows x 2 columns]"
      ]
     },
     "execution_count": 9,
     "metadata": {},
     "output_type": "execute_result"
    }
   ],
   "source": [
    "df"
   ]
  },
  {
   "cell_type": "code",
   "execution_count": 10,
   "metadata": {},
   "outputs": [
    {
     "data": {
      "image/png": "[encoded data removed]",
      "text/plain": [
       "<Figure size 640x480 with 1 Axes>"
      ]
     },
     "metadata": {},
     "output_type": "display_data"
    }
   ],
   "source": [
    "# plot piechart with label propportions\n",
    "import matplotlib.pyplot as plt\n",
    "\n",
    "labels = 'Drugs', 'Non-Drugs'\n",
    "sizes = [len(df_drugs), len(df_non_drugs)]\n",
    "explode = (0, 0.1)  # only \"explode\" the 2nd slice (i.e. 'Non-Drugs')\n",
    "\n",
    "fig1, ax1 = plt.subplots()\n",
    "ax1.pie(sizes, explode=explode, labels=labels, autopct='%1.2f%%', shadow=True, startangle=90)\n",
    "plt.show()  "
   ]
  },
  {
   "cell_type": "code",
   "execution_count": 11,
   "metadata": {},
   "outputs": [],
   "source": [
    "# balance the label with random undersampling \n",
    "from imblearn.under_sampling import RandomUnderSampler\n",
    "\n",
    "rus = RandomUnderSampler(random_state=42)\n",
    "X_res, y_res = rus.fit_resample(df[['smiles']], df['label'])\n",
    "\n",
    "# recreate the dataframe with the balanced data\n",
    "balanced_df = pd.concat([pd.DataFrame(X_res, columns=['smiles']), pd.DataFrame(y_res, columns=['label'])], axis=1)"
   ]
  },
  {
   "cell_type": "code",
   "execution_count": 12,
   "metadata": {},
   "outputs": [
    {
     "data": {
      "image/png": "[encoded data removed]",
      "text/plain": [
       "<Figure size 640x480 with 1 Axes>"
      ]
     },
     "metadata": {},
     "output_type": "display_data"
    }
   ],
   "source": [
    "labels = 'Drugs', 'Non-Drugs'\n",
    "sizes = [len(balanced_df[balanced_df[\"label\"] == 1]), len(balanced_df[balanced_df[\"label\"] == 0])]\n",
    "explode = (0, 0.1)  # only \"explode\" the 2nd slice (i.e. 'Non-Drugs')\n",
    "\n",
    "fig1, ax1 = plt.subplots()\n",
    "ax1.pie(sizes, explode=explode, labels=labels, autopct='%1.2f%%', shadow=True, startangle=90)\n",
    "plt.show()  "
   ]
  },
  {
   "cell_type": "code",
   "execution_count": 13,
   "metadata": {},
   "outputs": [
    {
     "data": {
      "text/html": [
       "<div>\n",
       "<style scoped>\n",
       "    .dataframe tbody tr th:only-of-type {\n",
       "        vertical-align: middle;\n",
       "    }\n",
       "\n",
       "    .dataframe tbody tr th {\n",
       "        vertical-align: top;\n",
       "    }\n",
       "\n",
       "    .dataframe thead th {\n",
       "        text-align: right;\n",
       "    }\n",
       "</style>\n",
       "<table border=\"1\" class=\"dataframe\">\n",
       "  <thead>\n",
       "    <tr style=\"text-align: right;\">\n",
       "      <th></th>\n",
       "      <th>smiles</th>\n",
       "      <th>label</th>\n",
       "    </tr>\n",
       "  </thead>\n",
       "  <tbody>\n",
       "    <tr>\n",
       "      <th>0</th>\n",
       "      <td>COc1ccccc1/C=N/c1ccccc1C#N</td>\n",
       "      <td>0</td>\n",
       "    </tr>\n",
       "    <tr>\n",
       "      <th>1</th>\n",
       "      <td>Cc1nccn1-c1ccc([C@@H](C)NC(=O)[C@H](C)OCC2CC2)cc1</td>\n",
       "      <td>0</td>\n",
       "    </tr>\n",
       "    <tr>\n",
       "      <th>2</th>\n",
       "      <td>C#CCNC(=O)CNC(=O)Nc1cccc(C[S@](=O)c2ccccc2)c1</td>\n",
       "      <td>0</td>\n",
       "    </tr>\n",
       "    <tr>\n",
       "      <th>3</th>\n",
       "      <td>Cc1cc(OC(F)F)ccc1NC(=O)N(CCO)Cc1ccco1</td>\n",
       "      <td>0</td>\n",
       "    </tr>\n",
       "    <tr>\n",
       "      <th>4</th>\n",
       "      <td>CCc1ccc([C@H](C)NC(=O)[C@]2(C)CC2(Br)Br)cc1</td>\n",
       "      <td>0</td>\n",
       "    </tr>\n",
       "    <tr>\n",
       "      <th>...</th>\n",
       "      <td>...</td>\n",
       "      <td>...</td>\n",
       "    </tr>\n",
       "    <tr>\n",
       "      <th>4267</th>\n",
       "      <td>CC(=O)OC1=CC(O)=CC=C1</td>\n",
       "      <td>1</td>\n",
       "    </tr>\n",
       "    <tr>\n",
       "      <th>4268</th>\n",
       "      <td>COC1=C(OC)C(OC)=C2C(CCC(NC(C)=O)C3=CC(=O)C(O)=...</td>\n",
       "      <td>1</td>\n",
       "    </tr>\n",
       "    <tr>\n",
       "      <th>4269</th>\n",
       "      <td>[H][C@@]12CC[C@](O)(C(=O)COC(C)=O)[C@@]1(C)C[C...</td>\n",
       "      <td>1</td>\n",
       "    </tr>\n",
       "    <tr>\n",
       "      <th>4270</th>\n",
       "      <td>CCOC(=O)C1=CC=CC=C1O</td>\n",
       "      <td>1</td>\n",
       "    </tr>\n",
       "    <tr>\n",
       "      <th>4271</th>\n",
       "      <td>[Na+].CCOC1=CC=C(NC2=CC=C(C=C2)C(=C2\\C=C/C(/C=...</td>\n",
       "      <td>1</td>\n",
       "    </tr>\n",
       "  </tbody>\n",
       "</table>\n",
       "<p>4272 rows × 2 columns</p>\n",
       "</div>"
      ],
      "text/plain": [
       "                                                 smiles  label\n",
       "0                            COc1ccccc1/C=N/c1ccccc1C#N      0\n",
       "1     Cc1nccn1-c1ccc([C@@H](C)NC(=O)[C@H](C)OCC2CC2)cc1      0\n",
       "2         C#CCNC(=O)CNC(=O)Nc1cccc(C[S@](=O)c2ccccc2)c1      0\n",
       "3                 Cc1cc(OC(F)F)ccc1NC(=O)N(CCO)Cc1ccco1      0\n",
       "4           CCc1ccc([C@H](C)NC(=O)[C@]2(C)CC2(Br)Br)cc1      0\n",
       "...                                                 ...    ...\n",
       "4267                              CC(=O)OC1=CC(O)=CC=C1      1\n",
       "4268  COC1=C(OC)C(OC)=C2C(CCC(NC(C)=O)C3=CC(=O)C(O)=...      1\n",
       "4269  [H][C@@]12CC[C@](O)(C(=O)COC(C)=O)[C@@]1(C)C[C...      1\n",
       "4270                               CCOC(=O)C1=CC=CC=C1O      1\n",
       "4271  [Na+].CCOC1=CC=C(NC2=CC=C(C=C2)C(=C2\\C=C/C(/C=...      1\n",
       "\n",
       "[4272 rows x 2 columns]"
      ]
     },
     "execution_count": 13,
     "metadata": {},
     "output_type": "execute_result"
    }
   ],
   "source": [
    "balanced_df"
   ]
  },
  {
   "cell_type": "code",
   "execution_count": 137,
   "metadata": {},
   "outputs": [],
   "source": [
    "#compute morgan fingerprints for the smiles in the df \n",
    "from rdkit import Chem\n",
    "from rdkit.Chem import AllChem\n",
    "\n",
    "def smiles_to_morgan_fingerprint(smiles, radius=2, nBits=2048):\n",
    "    mol = Chem.MolFromSmiles(smiles)\n",
    "    fp = AllChem.GetMorganFingerprintAsBitVect(mol, radius=radius, nBits=nBits)\n",
    "    return fp\n",
    "\n",
    "# add a column with it\n",
    "balanced_df['morgan_fingerprint'] = balanced_df['smiles'].apply(smiles_to_morgan_fingerprint)\n",
    "\n",
    "\n",
    "\n",
    "\n",
    "# add column with Mold2 descriptors\n",
    "from rdkit.Chem import Descriptors\n",
    "\n",
    "def smiles_to_mold2_descriptors(smiles):\n",
    "    mol = Chem.MolFromSmiles(smiles)\n",
    "    descriptors = []\n",
    "    for descriptor, function in Descriptors.descList:\n",
    "        descriptors.append(function(mol))\n",
    "    return descriptors\n",
    "\n",
    "\n",
    "balanced_df['mold2_descriptors'] = balanced_df['smiles'].apply(smiles_to_mold2_descriptors)\n",
    "\n",
    "\n",
    "\n",
    "# add column with RDKit descriptors\n",
    "from rdkit.Chem import rdMolDescriptors\t\n",
    "\n",
    "def smiles_to_rdkit_descriptors(smiles):\n",
    "    mol = Chem.MolFromSmiles(smiles)\n",
    "    descriptors = []\n",
    "    for descriptor, function in rdMolDescriptors.Properties.Properties.GetAvailableProperties():\n",
    "        descriptors.append(function(mol))\n",
    "    return descriptors\n",
    "\n",
    "\n",
    "balanced_df['rdkit_descriptors'] = balanced_df['smiles'].apply(smiles_to_rdkit_descriptors)\n",
    "\n",
    "\n",
    "# add column for MCS descriptors\n",
    "\n",
    "from rdkit.Chem import rdFMCS\n",
    "\n",
    "def smiles_to_mcs_descriptors(smiles):\n",
    "    mol = Chem.MolFromSmiles(smiles)\n",
    "    mcs = rdFMCS.FindMCS([mol])\n",
    "    return mcs.numAtoms, mcs.numBonds, mcs.numAtomRings, mcs.numBondRings, mcs.canceled\n",
    "\n",
    "balanced_df['mcs_descriptors'] = balanced_df['smiles'].apply(smiles_to_mcs_descriptors)\n",
    "\n",
    "\n",
    "# add column for MACCS keys\n",
    "from rdkit.Chem import MACCSkeys\n",
    "\n",
    "def smiles_to_maccs_keys(smiles):\n",
    "    mol = Chem.MolFromSmiles(smiles)\n",
    "    maccs_keys = MACCSkeys.GenMACCSKeys(mol)\n",
    "    return maccs_keys\n",
    "\n",
    "balanced_df['maccs_keys'] = balanced_df['smiles'].apply(smiles_to_maccs_keys)\n",
    "\n",
    "\n",
    "# add column for ECFP4 keys\n",
    "from rdkit.Chem import rdMolDescriptors\n",
    "\n",
    "def smiles_to_ecfp4_keys(smiles):\n",
    "    mol = Chem.MolFromSmiles(smiles)\n",
    "    ecfp4_keys = rdMolDescriptors.GetMorganFingerprintAsBitVect(mol, 2, nBits=2048)\n",
    "    return ecfp4_keys\n",
    "\n",
    "balanced_df['ecfp4_keys'] = balanced_df['smiles'].apply(smiles_to_ecfp4_keys)\n"
   ]
  },
  {
   "cell_type": "code",
   "execution_count": null,
   "metadata": {},
   "outputs": [],
   "source": [
    "\n"
   ]
  },
  {
   "cell_type": "code",
   "execution_count": 16,
   "metadata": {},
   "outputs": [],
   "source": [
    "\n",
    "\n",
    "import tensorflow as tf\n",
    "from tensorflow.keras.models import Sequential\n",
    "from tensorflow.keras.layers import Dense, Dropout, Activation, Flatten\n",
    "from tensorflow.keras.callbacks import EarlyStopping\n",
    "from sklearn.model_selection import train_test_split\n",
    "from sklearn.preprocessing import StandardScaler\n",
    "\n",
    "\n"
   ]
  },
  {
   "cell_type": "code",
   "execution_count": 54,
   "metadata": {},
   "outputs": [],
   "source": [
    "from sklearn.metrics import classification_report,confusion_matrix\n",
    "import seaborn as sns\n",
    "from sklearn.metrics import accuracy_score\n",
    "\n",
    "def evaluate_model(model, X_test, y_test, threshold=0.5):\n",
    "    predictions = model.predict(X_test)\n",
    "    predictions = (predictions > threshold)\n",
    "    print(classification_report(y_test,predictions))\n",
    "    print(\"Accuracy on test set: \", accuracy_score(y_test, predictions))\n",
    "    cm = confusion_matrix(y_test,predictions)\n",
    "    sns.heatmap(cm, annot=True)\n",
    "    plt.xlabel('Predicted labels')\n",
    "    plt.ylabel('True labels')\n"
   ]
  },
  {
   "cell_type": "code",
   "execution_count": 90,
   "metadata": {},
   "outputs": [
    {
     "name": "stdout",
     "output_type": "stream",
     "text": [
      "Epoch 1/5\n",
      "27/27 [==============================] - 1s 19ms/step - loss: 0.4553 - accuracy: 0.7867 - val_loss: 0.3457 - val_accuracy: 0.8561\n",
      "Epoch 2/5\n",
      "27/27 [==============================] - 0s 13ms/step - loss: 0.1606 - accuracy: 0.9391 - val_loss: 0.3628 - val_accuracy: 0.8702\n",
      "Epoch 3/5\n",
      "27/27 [==============================] - 0s 12ms/step - loss: 0.0408 - accuracy: 0.9889 - val_loss: 0.4499 - val_accuracy: 0.8643\n",
      "Epoch 4/5\n",
      "27/27 [==============================] - 0s 12ms/step - loss: 0.0072 - accuracy: 0.9994 - val_loss: 0.5297 - val_accuracy: 0.8655\n",
      "Epoch 5/5\n",
      "27/27 [==============================] - 0s 12ms/step - loss: 0.0026 - accuracy: 0.9997 - val_loss: 0.5750 - val_accuracy: 0.8690\n"
     ]
    },
    {
     "data": {
      "image/png": "[encoded data removed]",
      "text/plain": [
       "<Figure size 640x480 with 1 Axes>"
      ]
     },
     "metadata": {},
     "output_type": "display_data"
    }
   ],
   "source": [
    "# define the model\n",
    "model = Sequential()\n",
    "\n",
    "model.add(Dense(1024, activation='relu'))\n",
    "model.add(Dropout(0.2))\n",
    "\n",
    "model.add(Dense(1024/2, activation='relu'))\n",
    "model.add(Dropout(0.2))\n",
    "\n",
    "model.add(Dense(1, activation= \"sigmoid\"))\n",
    "\n",
    "model.compile(loss='binary_crossentropy',\n",
    "                optimizer='adam',\n",
    "                metrics=['accuracy'])\n",
    "\n",
    "\n",
    "# split the data into train and test\n",
    "X = np.array(list(balanced_df['morgan_fingerprint']))\n",
    "y = np.array(list(balanced_df['label']))\n",
    "\n",
    "X_train, X_test, y_train, y_test = train_test_split(X, y, test_size=0.2, random_state=42)\n",
    "\n",
    "\n",
    "\n",
    "# train the model\n",
    "model.fit(X_train, y_train, epochs=5, batch_size=128, validation_data=(X_test, y_test))\n",
    "\n",
    "\n",
    "model_loss = pd.DataFrame(model.history.history)\n",
    "model_loss[[\"loss\", \"val_loss\"]].plot()\n",
    "plt.show()\n",
    "\n"
   ]
  },
  {
   "cell_type": "code",
   "execution_count": 91,
   "metadata": {},
   "outputs": [
    {
     "name": "stdout",
     "output_type": "stream",
     "text": [
      "27/27 [==============================] - 0s 2ms/step\n",
      "              precision    recall  f1-score   support\n",
      "\n",
      "           0       0.89      0.85      0.87       448\n",
      "           1       0.84      0.89      0.87       407\n",
      "\n",
      "    accuracy                           0.87       855\n",
      "   macro avg       0.87      0.87      0.87       855\n",
      "weighted avg       0.87      0.87      0.87       855\n",
      "\n",
      "Accuracy on test set:  0.8690058479532163\n"
     ]
    },
    {
     "data": {
      "image/png": "[encoded data removed]",
      "text/plain": [
       "<Figure size 640x480 with 2 Axes>"
      ]
     },
     "metadata": {},
     "output_type": "display_data"
    }
   ],
   "source": [
    "evaluate_model(model, X_test, y_test)\n"
   ]
  },
  {
   "cell_type": "code",
   "execution_count": 42,
   "metadata": {},
   "outputs": [
    {
     "data": {
      "text/plain": [
       "2048"
      ]
     },
     "execution_count": 42,
     "metadata": {},
     "output_type": "execute_result"
    }
   ],
   "source": [
    "len(balanced_df[\"morgan_fingerprint\"][0])"
   ]
  },
  {
   "cell_type": "code",
   "execution_count": 41,
   "metadata": {},
   "outputs": [
    {
     "data": {
      "text/plain": [
       "208"
      ]
     },
     "execution_count": 41,
     "metadata": {},
     "output_type": "execute_result"
    }
   ],
   "source": [
    "len(balanced_df[\"mold2_descriptors\"][0])"
   ]
  },
  {
   "cell_type": "code",
   "execution_count": 105,
   "metadata": {},
   "outputs": [
    {
     "name": "stdout",
     "output_type": "stream",
     "text": [
      "Epoch 1/5\n"
     ]
    },
    {
     "name": "stderr",
     "output_type": "stream",
     "text": [
      "c:\\Installed_programs\\Conda\\envs\\bio_grasso\\lib\\site-packages\\sklearn\\utils\\extmath.py:1066: RuntimeWarning: overflow encountered in square\n",
      "  temp **= 2\n",
      "c:\\Installed_programs\\Conda\\envs\\bio_grasso\\lib\\site-packages\\sklearn\\utils\\extmath.py:1072: RuntimeWarning: overflow encountered in square\n",
      "  new_unnormalized_variance -= correction**2 / new_sample_count\n",
      "c:\\Installed_programs\\Conda\\envs\\bio_grasso\\lib\\site-packages\\sklearn\\utils\\extmath.py:1072: RuntimeWarning: invalid value encountered in subtract\n",
      "  new_unnormalized_variance -= correction**2 / new_sample_count\n",
      "c:\\Installed_programs\\Conda\\envs\\bio_grasso\\lib\\site-packages\\sklearn\\preprocessing\\_data.py:86: RuntimeWarning: overflow encountered in square\n",
      "  upper_bound = n_samples * eps * var + (n_samples * mean * eps) ** 2\n"
     ]
    },
    {
     "name": "stdout",
     "output_type": "stream",
     "text": [
      "27/27 [==============================] - 1s 13ms/step - loss: 0.6932 - accuracy: 0.4940 - val_loss: 0.6931 - val_accuracy: 0.4760\n",
      "Epoch 2/5\n",
      "27/27 [==============================] - 0s 5ms/step - loss: 0.6932 - accuracy: 0.5060 - val_loss: 0.6933 - val_accuracy: 0.4760\n",
      "Epoch 3/5\n",
      "27/27 [==============================] - 0s 5ms/step - loss: 0.6931 - accuracy: 0.5060 - val_loss: 0.6933 - val_accuracy: 0.4760\n",
      "Epoch 4/5\n",
      "27/27 [==============================] - 0s 7ms/step - loss: 0.6931 - accuracy: 0.5060 - val_loss: 0.6934 - val_accuracy: 0.4760\n",
      "Epoch 5/5\n",
      "27/27 [==============================] - 0s 4ms/step - loss: 0.6931 - accuracy: 0.5060 - val_loss: 0.6934 - val_accuracy: 0.4760\n"
     ]
    },
    {
     "data": {
      "image/png": "[encoded data removed]",
      "text/plain": [
       "<Figure size 640x480 with 1 Axes>"
      ]
     },
     "metadata": {},
     "output_type": "display_data"
    }
   ],
   "source": [
    "# define the model\n",
    "model = Sequential()\n",
    "\n",
    "model.add(Dense(64*2, activation='relu'))\n",
    "model.add(Dropout(0.2))\n",
    "\n",
    "model.add(Dense(64, activation='relu'))\n",
    "model.add(Dropout(0.2))\n",
    "\n",
    "model.add(Dense(1, activation= \"sigmoid\"))\n",
    "\n",
    "model.compile(loss='binary_crossentropy',\n",
    "                optimizer='adam',\n",
    "                metrics=['accuracy'])\n",
    "\n",
    "\n",
    "\n",
    "# split the data into train and test\n",
    "X = np.array(list(balanced_df['mold2_descriptors']))\n",
    "y = np.array(list(balanced_df['label']))\n",
    "\n",
    "X_train, X_test, y_train, y_test = train_test_split(X, y, test_size=0.2, random_state=42)\n",
    "\n",
    "# scale the data\n",
    "scaler = StandardScaler()\n",
    "X_train = scaler.fit_transform(X_train)\n",
    "X_test = scaler.transform(X_test)\n",
    "\n",
    "\n",
    "\n",
    "# train the model\n",
    "model.fit(X_train, y_train, epochs=5, batch_size=128, validation_data=(X_test, y_test))\n",
    "\n",
    "\n",
    "model_loss = pd.DataFrame(model.history.history)\n",
    "model_loss[[\"loss\", \"val_loss\"]].plot()\n",
    "plt.show()\n",
    "\n"
   ]
  },
  {
   "cell_type": "code",
   "execution_count": 106,
   "metadata": {},
   "outputs": [
    {
     "name": "stdout",
     "output_type": "stream",
     "text": [
      "27/27 [==============================] - 0s 2ms/step\n",
      "              precision    recall  f1-score   support\n",
      "\n",
      "           0       0.00      0.00      0.00       448\n",
      "           1       0.48      1.00      0.65       407\n",
      "\n",
      "    accuracy                           0.48       855\n",
      "   macro avg       0.24      0.50      0.32       855\n",
      "weighted avg       0.23      0.48      0.31       855\n",
      "\n",
      "Accuracy on test set:  0.4760233918128655\n"
     ]
    },
    {
     "name": "stderr",
     "output_type": "stream",
     "text": [
      "c:\\Installed_programs\\Conda\\envs\\bio_grasso\\lib\\site-packages\\sklearn\\metrics\\_classification.py:1344: UndefinedMetricWarning: Precision and F-score are ill-defined and being set to 0.0 in labels with no predicted samples. Use `zero_division` parameter to control this behavior.\n",
      "  _warn_prf(average, modifier, msg_start, len(result))\n",
      "c:\\Installed_programs\\Conda\\envs\\bio_grasso\\lib\\site-packages\\sklearn\\metrics\\_classification.py:1344: UndefinedMetricWarning: Precision and F-score are ill-defined and being set to 0.0 in labels with no predicted samples. Use `zero_division` parameter to control this behavior.\n",
      "  _warn_prf(average, modifier, msg_start, len(result))\n",
      "c:\\Installed_programs\\Conda\\envs\\bio_grasso\\lib\\site-packages\\sklearn\\metrics\\_classification.py:1344: UndefinedMetricWarning: Precision and F-score are ill-defined and being set to 0.0 in labels with no predicted samples. Use `zero_division` parameter to control this behavior.\n",
      "  _warn_prf(average, modifier, msg_start, len(result))\n"
     ]
    },
    {
     "data": {
      "image/png": "[encoded data removed]",
      "text/plain": [
       "<Figure size 640x480 with 2 Axes>"
      ]
     },
     "metadata": {},
     "output_type": "display_data"
    }
   ],
   "source": [
    "evaluate_model(model, X_test, y_test, threshold=0.5)"
   ]
  },
  {
   "cell_type": "code",
   "execution_count": null,
   "metadata": {},
   "outputs": [],
   "source": [
    "from tensorflow.keras.datasets import cifar10\n",
    "from tensorflow.keras.models import Sequential\n",
    "from tensorflow.keras.layers import Dense, Flatten, Conv2D, MaxPooling2D\n",
    "from tensorflow.keras.losses import sparse_categorical_crossentropy\n",
    "from tensorflow.keras.optimizers import Adam\n",
    "from sklearn.model_selection import KFold\n",
    "import numpy as np"
   ]
  },
  {
   "cell_type": "code",
   "execution_count": 131,
   "metadata": {},
   "outputs": [],
   "source": [
    "\n",
    "\n",
    "def cross_validation(X, y, model_func, n_splits=5, verbose=0, epochs=5):\n",
    "\n",
    "  acc_per_fold = []\n",
    "  loss_per_fold = []\n",
    "\n",
    "  # Define the K-fold Cross Validator\n",
    "  kfold = KFold(n_splits=n_splits, shuffle=True)\n",
    "  \n",
    "  # K-fold Cross Validation model evaluation\n",
    "  fold_no = 1\n",
    "  for train, test in kfold.split(X, y):\n",
    "\n",
    "    # Define the model architecture\n",
    "    model = model_func()\n",
    "\n",
    "    # Generate a print\n",
    "    print('------------------------------------------------------------------------')\n",
    "    print(f'Training for fold {fold_no} ...')\n",
    "\n",
    "    X_train = X[train]\n",
    "    y_train = y[train]\n",
    "\n",
    "    X_test = X[test]\n",
    "    y_test = y[test]\n",
    "\n",
    "    # Fit data to model\n",
    "    history = model.fit(X_train, y_train,\n",
    "                batch_size=128,\n",
    "                epochs=epochs,\n",
    "                verbose=verbose)\n",
    "\n",
    "    # Generate generalization metrics\n",
    "    scores = model.evaluate(X_test, y_test, verbose=verbose)\n",
    "    print(f'Score for fold {fold_no}: {model.metrics_names[0]} of {scores[0]}; {model.metrics_names[1]} of {scores[1]*100}%')\n",
    "    acc_per_fold.append(scores[1] * 100)\n",
    "    loss_per_fold.append(scores[0])\n",
    "\n",
    "    # Increase fold number\n",
    "    fold_no = fold_no + 1\n",
    "\n",
    "  print(\"\\nMean accuracy in folds: \", np.mean(acc_per_fold))\n",
    "  \n",
    "  return acc_per_fold, loss_per_fold"
   ]
  },
  {
   "attachments": {},
   "cell_type": "markdown",
   "metadata": {},
   "source": [
    "### Feed foward network with morgan fingerprints "
   ]
  },
  {
   "cell_type": "code",
   "execution_count": 132,
   "metadata": {},
   "outputs": [
    {
     "name": "stdout",
     "output_type": "stream",
     "text": [
      "------------------------------------------------------------------------\n",
      "Training for fold 1 ...\n",
      "Score for fold 1: loss of 0.5948343276977539; accuracy of 86.11111044883728%\n",
      "------------------------------------------------------------------------\n",
      "Training for fold 2 ...\n",
      "Score for fold 2: loss of 0.5266545414924622; accuracy of 88.01169395446777%\n",
      "------------------------------------------------------------------------\n",
      "Training for fold 3 ...\n",
      "Score for fold 3: loss of 0.575374960899353; accuracy of 87.1156632900238%\n",
      "------------------------------------------------------------------------\n",
      "Training for fold 4 ...\n",
      "Score for fold 4: loss of 0.6213619112968445; accuracy of 85.35870909690857%\n",
      "------------------------------------------------------------------------\n",
      "Training for fold 5 ...\n",
      "Score for fold 5: loss of 0.507885754108429; accuracy of 87.55490779876709%\n",
      "\n",
      "Mean accuracy in folds:  86.8304169178009\n",
      "\n",
      "Evaluation on test set: \n",
      "27/27 [==============================] - 0s 4ms/step\n",
      "              precision    recall  f1-score   support\n",
      "\n",
      "           0       0.89      0.86      0.88       448\n",
      "           1       0.85      0.88      0.87       407\n",
      "\n",
      "    accuracy                           0.87       855\n",
      "   macro avg       0.87      0.87      0.87       855\n",
      "weighted avg       0.87      0.87      0.87       855\n",
      "\n",
      "Accuracy on test set:  0.8713450292397661\n"
     ]
    },
    {
     "data": {
      "image/png": "[encoded data removed]",
      "text/plain": [
       "<Figure size 640x480 with 2 Axes>"
      ]
     },
     "metadata": {},
     "output_type": "display_data"
    }
   ],
   "source": [
    "\n",
    "\n",
    "X = np.array(list(balanced_df[\"morgan_fingerprint\"]))\n",
    "y = np.array(list(balanced_df[\"label\"]))\n",
    "\n",
    "# split train and test with train test split\n",
    "X_train, X_test, y_train, y_test = train_test_split(X, y, test_size=0.2, random_state=42)\n",
    "\n",
    "\n",
    "def create_model():\n",
    "  # define the model\n",
    "  model = Sequential()\n",
    "\n",
    "  model.add(Dense(2048, activation='relu'))\n",
    "  model.add(Dropout(0.1))\n",
    "\n",
    "  model.add(Dense(2048/2, activation='relu'))\n",
    "  model.add(Dropout(0.1))\n",
    "\n",
    "  model.add(Dense(1, activation= \"sigmoid\"))\n",
    "\n",
    "  model.compile(loss='binary_crossentropy',\n",
    "                  optimizer='adam',\n",
    "                  metrics=['accuracy'])\n",
    "  return model\n",
    "\n",
    "# perform cross validation\n",
    "acc_per_fold, loss_per_fold = cross_validation(X_train, y_train, create_model, n_splits=5, verbose = 0)\n",
    "\n",
    "# train model on whole train set and test in on the independent test set\n",
    "model = create_model()\n",
    "model.fit(X_train, y_train, epochs=10, batch_size=128, verbose=0)\n",
    "print(\"\\nEvaluation on test set: \")\n",
    "evaluate_model(model, X_test, y_test, threshold=0.5)"
   ]
  },
  {
   "attachments": {},
   "cell_type": "markdown",
   "metadata": {},
   "source": [
    "### Feed foward network with MCS descriptors"
   ]
  },
  {
   "cell_type": "code",
   "execution_count": 135,
   "metadata": {},
   "outputs": [
    {
     "name": "stdout",
     "output_type": "stream",
     "text": [
      "------------------------------------------------------------------------\n",
      "Training for fold 1 ...\n",
      "Score for fold 1: loss of 0.6939746141433716; accuracy of 48.68420958518982%\n",
      "------------------------------------------------------------------------\n",
      "Training for fold 2 ...\n",
      "Score for fold 2: loss of 0.6931911706924438; accuracy of 47.514620423316956%\n",
      "------------------------------------------------------------------------\n",
      "Training for fold 3 ...\n",
      "Score for fold 3: loss of nan; accuracy of 48.02342653274536%\n",
      "------------------------------------------------------------------------\n",
      "Training for fold 4 ...\n",
      "Score for fold 4: loss of nan; accuracy of 51.53733491897583%\n",
      "------------------------------------------------------------------------\n",
      "Training for fold 5 ...\n",
      "Score for fold 5: loss of 0.6930325031280518; accuracy of 51.39092206954956%\n",
      "\n",
      "Mean accuracy in folds:  49.430102705955505\n",
      "\n",
      "Evaluation on test set: \n",
      "27/27 [==============================] - 0s 845us/step\n",
      "              precision    recall  f1-score   support\n",
      "\n",
      "           0       0.52      1.00      0.69       448\n",
      "           1       0.00      0.00      0.00       407\n",
      "\n",
      "    accuracy                           0.52       855\n",
      "   macro avg       0.26      0.50      0.34       855\n",
      "weighted avg       0.27      0.52      0.36       855\n",
      "\n",
      "Accuracy on test set:  0.5239766081871345\n"
     ]
    },
    {
     "name": "stderr",
     "output_type": "stream",
     "text": [
      "c:\\Installed_programs\\Conda\\envs\\bio_grasso\\lib\\site-packages\\sklearn\\metrics\\_classification.py:1344: UndefinedMetricWarning: Precision and F-score are ill-defined and being set to 0.0 in labels with no predicted samples. Use `zero_division` parameter to control this behavior.\n",
      "  _warn_prf(average, modifier, msg_start, len(result))\n",
      "c:\\Installed_programs\\Conda\\envs\\bio_grasso\\lib\\site-packages\\sklearn\\metrics\\_classification.py:1344: UndefinedMetricWarning: Precision and F-score are ill-defined and being set to 0.0 in labels with no predicted samples. Use `zero_division` parameter to control this behavior.\n",
      "  _warn_prf(average, modifier, msg_start, len(result))\n",
      "c:\\Installed_programs\\Conda\\envs\\bio_grasso\\lib\\site-packages\\sklearn\\metrics\\_classification.py:1344: UndefinedMetricWarning: Precision and F-score are ill-defined and being set to 0.0 in labels with no predicted samples. Use `zero_division` parameter to control this behavior.\n",
      "  _warn_prf(average, modifier, msg_start, len(result))\n"
     ]
    },
    {
     "data": {
      "image/png": "[encoded data removed]",
      "text/plain": [
       "<Figure size 640x480 with 2 Axes>"
      ]
     },
     "metadata": {},
     "output_type": "display_data"
    }
   ],
   "source": [
    "\n",
    "\n",
    "X = np.array(list(balanced_df[\"mold2_descriptors\"]))\n",
    "y = np.array(list(balanced_df[\"label\"]))\n",
    "\n",
    "# split train and test with train test split\n",
    "X_train, X_test, y_train, y_test = train_test_split(X, y, test_size=0.2, random_state=42)\n",
    "\n",
    "\n",
    "def create_model():\n",
    "  # define the model\n",
    "  model = Sequential()\n",
    "\n",
    "  model.add(Dense(100, activation='relu'))\n",
    "  model.add(Dropout(0.1))\n",
    "\n",
    "  model.add(Dense(50, activation='relu'))\n",
    "  model.add(Dropout(0.1))\n",
    "\n",
    "  model.add(Dense(1, activation= \"sigmoid\"))\n",
    "\n",
    "  model.compile(loss='binary_crossentropy',\n",
    "                  optimizer='adam',\n",
    "                  metrics=['accuracy'])\n",
    "  return model\n",
    "\n",
    "# perform cross validation\n",
    "acc_per_fold, loss_per_fold = cross_validation(X_train, y_train, create_model, n_splits=5, verbose = 0)\n",
    "\n",
    "# train model on whole train set and test in on the independent test set\n",
    "model = create_model()\n",
    "model.fit(X_train, y_train, epochs=10, batch_size=128, verbose=0)\n",
    "print(\"\\nEvaluation on test set: \")\n",
    "evaluate_model(model, X_test, y_test, threshold=0.5)"
   ]
  },
  {
   "cell_type": "code",
   "execution_count": null,
   "metadata": {},
   "outputs": [],
   "source": []
  },
  {
   "cell_type": "code",
   "execution_count": null,
   "metadata": {},
   "outputs": [],
   "source": []
  },
  {
   "cell_type": "code",
   "execution_count": 110,
   "metadata": {},
   "outputs": [],
   "source": [
    "from tensorflow.keras.models import Sequential\n",
    "from tensorflow.keras.layers import Dense\n",
    "from scikeras.wrappers import KerasClassifier\n",
    "from sklearn.model_selection import cross_val_score\n",
    "from sklearn.preprocessing import LabelEncoder\n",
    "from sklearn.model_selection import StratifiedKFold\n",
    "from sklearn.preprocessing import StandardScaler\n",
    "from sklearn.pipeline import Pipeline"
   ]
  },
  {
   "cell_type": "code",
   "execution_count": 115,
   "metadata": {},
   "outputs": [],
   "source": [
    "\n",
    "\n",
    "# define X and y\n",
    "X = np.array(list(balanced_df[\"morgan_fingerprint\"]))\n",
    "y = np.array(list(balanced_df[\"label\"]))\n",
    "\n"
   ]
  },
  {
   "cell_type": "code",
   "execution_count": 116,
   "metadata": {},
   "outputs": [],
   "source": [
    "def create_baseline():\n",
    "    # define the model\n",
    "    model = Sequential()\n",
    "\n",
    "    model.add(Dense(2048, activation='relu'))\n",
    "    model.add(Dropout(0.1))\n",
    "\n",
    "    model.add(Dense(2048/2, activation='relu'))\n",
    "    model.add(Dropout(0.1))\n",
    "\n",
    "    model.add(Dense(1, activation= \"sigmoid\"))\n",
    "\n",
    "    model.compile(loss='binary_crossentropy',\n",
    "                optimizer='adam',\n",
    "                metrics=['accuracy'])\n",
    "                "
   ]
  },
  {
   "cell_type": "code",
   "execution_count": 117,
   "metadata": {},
   "outputs": [
    {
     "ename": "ValueError",
     "evalue": "\nAll the 10 fits failed.\nIt is very likely that your model is misconfigured.\nYou can try to debug the error by setting error_score='raise'.\n\nBelow are more details about the failures:\n--------------------------------------------------------------------------------\n10 fits failed with the following error:\nTraceback (most recent call last):\n  File \"c:\\Installed_programs\\Conda\\envs\\bio_grasso\\lib\\site-packages\\sklearn\\model_selection\\_validation.py\", line 686, in _fit_and_score\n    estimator.fit(X_train, y_train, **fit_params)\n  File \"C:\\Users\\natha\\AppData\\Roaming\\Python\\Python310\\site-packages\\scikeras\\wrappers.py\", line 1494, in fit\n    super().fit(X=X, y=y, sample_weight=sample_weight, **kwargs)\n  File \"C:\\Users\\natha\\AppData\\Roaming\\Python\\Python310\\site-packages\\scikeras\\wrappers.py\", line 762, in fit\n    self._fit(\n  File \"C:\\Users\\natha\\AppData\\Roaming\\Python\\Python310\\site-packages\\scikeras\\wrappers.py\", line 929, in _fit\n    self._check_model_compatibility(y)\n  File \"C:\\Users\\natha\\AppData\\Roaming\\Python\\Python310\\site-packages\\scikeras\\wrappers.py\", line 551, in _check_model_compatibility\n    if self.n_outputs_expected_ != len(self.model_.outputs):\nTypeError: object of type 'NoneType' has no len()\n",
     "output_type": "error",
     "traceback": [
      "\u001b[1;31m---------------------------------------------------------------------------\u001b[0m",
      "\u001b[1;31mValueError\u001b[0m                                Traceback (most recent call last)",
      "Cell \u001b[1;32mIn[117], line 3\u001b[0m\n\u001b[0;32m      1\u001b[0m estimator \u001b[39m=\u001b[39m KerasClassifier(model\u001b[39m=\u001b[39mcreate_baseline, epochs\u001b[39m=\u001b[39m\u001b[39m100\u001b[39m, batch_size\u001b[39m=\u001b[39m\u001b[39m5\u001b[39m, verbose\u001b[39m=\u001b[39m\u001b[39m0\u001b[39m)\n\u001b[0;32m      2\u001b[0m kfold \u001b[39m=\u001b[39m StratifiedKFold(n_splits\u001b[39m=\u001b[39m\u001b[39m10\u001b[39m, shuffle\u001b[39m=\u001b[39m\u001b[39mTrue\u001b[39;00m)\n\u001b[1;32m----> 3\u001b[0m results \u001b[39m=\u001b[39m cross_val_score(estimator, X, y, cv\u001b[39m=\u001b[39;49mkfold)\n\u001b[0;32m      4\u001b[0m \u001b[39mprint\u001b[39m(\u001b[39m\"\u001b[39m\u001b[39mBaseline: \u001b[39m\u001b[39m%.2f\u001b[39;00m\u001b[39m%%\u001b[39;00m\u001b[39m (\u001b[39m\u001b[39m%.2f\u001b[39;00m\u001b[39m%%\u001b[39;00m\u001b[39m)\u001b[39m\u001b[39m\"\u001b[39m \u001b[39m%\u001b[39m (results\u001b[39m.\u001b[39mmean()\u001b[39m*\u001b[39m\u001b[39m100\u001b[39m, results\u001b[39m.\u001b[39mstd()\u001b[39m*\u001b[39m\u001b[39m100\u001b[39m))\n",
      "File \u001b[1;32mc:\\Installed_programs\\Conda\\envs\\bio_grasso\\lib\\site-packages\\sklearn\\model_selection\\_validation.py:515\u001b[0m, in \u001b[0;36mcross_val_score\u001b[1;34m(estimator, X, y, groups, scoring, cv, n_jobs, verbose, fit_params, pre_dispatch, error_score)\u001b[0m\n\u001b[0;32m    512\u001b[0m \u001b[39m# To ensure multimetric format is not supported\u001b[39;00m\n\u001b[0;32m    513\u001b[0m scorer \u001b[39m=\u001b[39m check_scoring(estimator, scoring\u001b[39m=\u001b[39mscoring)\n\u001b[1;32m--> 515\u001b[0m cv_results \u001b[39m=\u001b[39m cross_validate(\n\u001b[0;32m    516\u001b[0m     estimator\u001b[39m=\u001b[39;49mestimator,\n\u001b[0;32m    517\u001b[0m     X\u001b[39m=\u001b[39;49mX,\n\u001b[0;32m    518\u001b[0m     y\u001b[39m=\u001b[39;49my,\n\u001b[0;32m    519\u001b[0m     groups\u001b[39m=\u001b[39;49mgroups,\n\u001b[0;32m    520\u001b[0m     scoring\u001b[39m=\u001b[39;49m{\u001b[39m\"\u001b[39;49m\u001b[39mscore\u001b[39;49m\u001b[39m\"\u001b[39;49m: scorer},\n\u001b[0;32m    521\u001b[0m     cv\u001b[39m=\u001b[39;49mcv,\n\u001b[0;32m    522\u001b[0m     n_jobs\u001b[39m=\u001b[39;49mn_jobs,\n\u001b[0;32m    523\u001b[0m     verbose\u001b[39m=\u001b[39;49mverbose,\n\u001b[0;32m    524\u001b[0m     fit_params\u001b[39m=\u001b[39;49mfit_params,\n\u001b[0;32m    525\u001b[0m     pre_dispatch\u001b[39m=\u001b[39;49mpre_dispatch,\n\u001b[0;32m    526\u001b[0m     error_score\u001b[39m=\u001b[39;49merror_score,\n\u001b[0;32m    527\u001b[0m )\n\u001b[0;32m    528\u001b[0m \u001b[39mreturn\u001b[39;00m cv_results[\u001b[39m\"\u001b[39m\u001b[39mtest_score\u001b[39m\u001b[39m\"\u001b[39m]\n",
      "File \u001b[1;32mc:\\Installed_programs\\Conda\\envs\\bio_grasso\\lib\\site-packages\\sklearn\\model_selection\\_validation.py:285\u001b[0m, in \u001b[0;36mcross_validate\u001b[1;34m(estimator, X, y, groups, scoring, cv, n_jobs, verbose, fit_params, pre_dispatch, return_train_score, return_estimator, error_score)\u001b[0m\n\u001b[0;32m    265\u001b[0m parallel \u001b[39m=\u001b[39m Parallel(n_jobs\u001b[39m=\u001b[39mn_jobs, verbose\u001b[39m=\u001b[39mverbose, pre_dispatch\u001b[39m=\u001b[39mpre_dispatch)\n\u001b[0;32m    266\u001b[0m results \u001b[39m=\u001b[39m parallel(\n\u001b[0;32m    267\u001b[0m     delayed(_fit_and_score)(\n\u001b[0;32m    268\u001b[0m         clone(estimator),\n\u001b[1;32m   (...)\u001b[0m\n\u001b[0;32m    282\u001b[0m     \u001b[39mfor\u001b[39;00m train, test \u001b[39min\u001b[39;00m cv\u001b[39m.\u001b[39msplit(X, y, groups)\n\u001b[0;32m    283\u001b[0m )\n\u001b[1;32m--> 285\u001b[0m _warn_or_raise_about_fit_failures(results, error_score)\n\u001b[0;32m    287\u001b[0m \u001b[39m# For callabe scoring, the return type is only know after calling. If the\u001b[39;00m\n\u001b[0;32m    288\u001b[0m \u001b[39m# return type is a dictionary, the error scores can now be inserted with\u001b[39;00m\n\u001b[0;32m    289\u001b[0m \u001b[39m# the correct key.\u001b[39;00m\n\u001b[0;32m    290\u001b[0m \u001b[39mif\u001b[39;00m \u001b[39mcallable\u001b[39m(scoring):\n",
      "File \u001b[1;32mc:\\Installed_programs\\Conda\\envs\\bio_grasso\\lib\\site-packages\\sklearn\\model_selection\\_validation.py:367\u001b[0m, in \u001b[0;36m_warn_or_raise_about_fit_failures\u001b[1;34m(results, error_score)\u001b[0m\n\u001b[0;32m    360\u001b[0m \u001b[39mif\u001b[39;00m num_failed_fits \u001b[39m==\u001b[39m num_fits:\n\u001b[0;32m    361\u001b[0m     all_fits_failed_message \u001b[39m=\u001b[39m (\n\u001b[0;32m    362\u001b[0m         \u001b[39mf\u001b[39m\u001b[39m\"\u001b[39m\u001b[39m\\n\u001b[39;00m\u001b[39mAll the \u001b[39m\u001b[39m{\u001b[39;00mnum_fits\u001b[39m}\u001b[39;00m\u001b[39m fits failed.\u001b[39m\u001b[39m\\n\u001b[39;00m\u001b[39m\"\u001b[39m\n\u001b[0;32m    363\u001b[0m         \u001b[39m\"\u001b[39m\u001b[39mIt is very likely that your model is misconfigured.\u001b[39m\u001b[39m\\n\u001b[39;00m\u001b[39m\"\u001b[39m\n\u001b[0;32m    364\u001b[0m         \u001b[39m\"\u001b[39m\u001b[39mYou can try to debug the error by setting error_score=\u001b[39m\u001b[39m'\u001b[39m\u001b[39mraise\u001b[39m\u001b[39m'\u001b[39m\u001b[39m.\u001b[39m\u001b[39m\\n\u001b[39;00m\u001b[39m\\n\u001b[39;00m\u001b[39m\"\u001b[39m\n\u001b[0;32m    365\u001b[0m         \u001b[39mf\u001b[39m\u001b[39m\"\u001b[39m\u001b[39mBelow are more details about the failures:\u001b[39m\u001b[39m\\n\u001b[39;00m\u001b[39m{\u001b[39;00mfit_errors_summary\u001b[39m}\u001b[39;00m\u001b[39m\"\u001b[39m\n\u001b[0;32m    366\u001b[0m     )\n\u001b[1;32m--> 367\u001b[0m     \u001b[39mraise\u001b[39;00m \u001b[39mValueError\u001b[39;00m(all_fits_failed_message)\n\u001b[0;32m    369\u001b[0m \u001b[39melse\u001b[39;00m:\n\u001b[0;32m    370\u001b[0m     some_fits_failed_message \u001b[39m=\u001b[39m (\n\u001b[0;32m    371\u001b[0m         \u001b[39mf\u001b[39m\u001b[39m\"\u001b[39m\u001b[39m\\n\u001b[39;00m\u001b[39m{\u001b[39;00mnum_failed_fits\u001b[39m}\u001b[39;00m\u001b[39m fits failed out of a total of \u001b[39m\u001b[39m{\u001b[39;00mnum_fits\u001b[39m}\u001b[39;00m\u001b[39m.\u001b[39m\u001b[39m\\n\u001b[39;00m\u001b[39m\"\u001b[39m\n\u001b[0;32m    372\u001b[0m         \u001b[39m\"\u001b[39m\u001b[39mThe score on these train-test partitions for these parameters\u001b[39m\u001b[39m\"\u001b[39m\n\u001b[1;32m   (...)\u001b[0m\n\u001b[0;32m    376\u001b[0m         \u001b[39mf\u001b[39m\u001b[39m\"\u001b[39m\u001b[39mBelow are more details about the failures:\u001b[39m\u001b[39m\\n\u001b[39;00m\u001b[39m{\u001b[39;00mfit_errors_summary\u001b[39m}\u001b[39;00m\u001b[39m\"\u001b[39m\n\u001b[0;32m    377\u001b[0m     )\n",
      "\u001b[1;31mValueError\u001b[0m: \nAll the 10 fits failed.\nIt is very likely that your model is misconfigured.\nYou can try to debug the error by setting error_score='raise'.\n\nBelow are more details about the failures:\n--------------------------------------------------------------------------------\n10 fits failed with the following error:\nTraceback (most recent call last):\n  File \"c:\\Installed_programs\\Conda\\envs\\bio_grasso\\lib\\site-packages\\sklearn\\model_selection\\_validation.py\", line 686, in _fit_and_score\n    estimator.fit(X_train, y_train, **fit_params)\n  File \"C:\\Users\\natha\\AppData\\Roaming\\Python\\Python310\\site-packages\\scikeras\\wrappers.py\", line 1494, in fit\n    super().fit(X=X, y=y, sample_weight=sample_weight, **kwargs)\n  File \"C:\\Users\\natha\\AppData\\Roaming\\Python\\Python310\\site-packages\\scikeras\\wrappers.py\", line 762, in fit\n    self._fit(\n  File \"C:\\Users\\natha\\AppData\\Roaming\\Python\\Python310\\site-packages\\scikeras\\wrappers.py\", line 929, in _fit\n    self._check_model_compatibility(y)\n  File \"C:\\Users\\natha\\AppData\\Roaming\\Python\\Python310\\site-packages\\scikeras\\wrappers.py\", line 551, in _check_model_compatibility\n    if self.n_outputs_expected_ != len(self.model_.outputs):\nTypeError: object of type 'NoneType' has no len()\n"
     ]
    }
   ],
   "source": [
    "estimator = KerasClassifier(model=create_baseline, epochs=100, batch_size=5, verbose=0)\n",
    "kfold = StratifiedKFold(n_splits=10, shuffle=True)\n",
    "results = cross_val_score(estimator, X, y, cv=kfold)\n",
    "print(\"Baseline: %.2f%% (%.2f%%)\" % (results.mean()*100, results.std()*100))"
   ]
  }
 ],
 "metadata": {
  "kernelspec": {
   "display_name": "bio_grasso",
   "language": "python",
   "name": "python3"
  },
  "language_info": {
   "codemirror_mode": {
    "name": "ipython",
    "version": 3
   },
   "file_extension": ".py",
   "mimetype": "text/x-python",
   "name": "python",
   "nbconvert_exporter": "python",
   "pygments_lexer": "ipython3",
   "version": "3.10.11"
  },
  "orig_nbformat": 4
 },
 "nbformat": 4,
 "nbformat_minor": 2
}
